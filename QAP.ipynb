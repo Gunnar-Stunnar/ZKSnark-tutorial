{
 "cells": [
  {
   "cell_type": "markdown",
   "metadata": {},
   "source": [
    "# Coding a Qudratic Span Programs"
   ]
  },
  {
   "cell_type": "code",
   "execution_count": 2,
   "metadata": {},
   "outputs": [],
   "source": [
    "import numpy as np\n",
    "import numpy.polynomial.polynomial as poly\n",
    "import matplotlib.pyplot as plt"
   ]
  },
  {
   "cell_type": "markdown",
   "metadata": {},
   "source": [
    "# our function\n",
    "$f(x) = x^2 * (x + 3)$\n",
    "\n",
    "* for now we are going to treat our $f(x)$ as a mathematical algebraic function, But a regular expression with if statements and control flow is able to be expressed as a polynomial\n",
    "\n",
    "## flatten circuit\n",
    "\n",
    "* turn each expression into a variable that can be constrained\n",
    "\n",
    "\\begin{align*}\n",
    "    v_0 = x * x \\\\\n",
    "    v_1 = x + 3 \\\\\n",
    "    v_2 = v_0 * v_1\n",
    "\\end{align*}\n"
   ]
  },
  {
   "cell_type": "code",
   "execution_count": 3,
   "metadata": {},
   "outputs": [],
   "source": [
    "def compute_variable(x):\n",
    "    \n",
    "    var = [\n",
    "        1,\n",
    "        x,\n",
    "        x * x,\n",
    "        x + 3,\n",
    "    ]\n",
    "    \n",
    "    return np.array(var + [var[2]*var[3]])\n",
    "\n"
   ]
  },
  {
   "cell_type": "markdown",
   "metadata": {},
   "source": [
    "# Rank 1 constraint system\n",
    "* turn each logical relationship into a constraint, to be tested later in a group fashion.\n",
    "\n",
    "## example\n",
    "\n",
    "### list of constraint\n",
    "\n",
    "|expression| constraint|\n",
    "|----|----|\n",
    "| $x * x = v_0$ |  $x * x - v_0 == 0$  |\n",
    "| $x + 3 = v_1$ |  $(x+3) * 1 - v_1 == 0$  |\n",
    "| $v_0 * v_1 = v_2$ |  $v_0 * v_1 - v_2 == 0$  |\n",
    "\n",
    "Observe the table relative to our function above. they all follow a general format, the flatten circuit can turn into a constaraint just by moving the output to the left to check if they are equal to zero!\n",
    "#### constraints framework - under vector format\n",
    "\\begin{align*}\n",
    "    <L_{eft}.s> * <R_{ight}.s> - <O_{ut}.s> == 0 \\\\\n",
    "\\end{align*}\n",
    "\n",
    "in this case, s is our state vector.\n",
    "\n",
    "$$\n",
    "    s = \n",
    "    \\begin{bmatrix}\n",
    "    1 \\\\\n",
    "    x \\\\\n",
    "    x * x \\\\\n",
    "    x + 3 \\\\\n",
    "    (x * x) * (x + 3)\\\\\n",
    "    \\end{bmatrix}\n",
    "$$\n",
    "\n",
    "to get our constraint, we need to get our Left Hand of our multiplication and our Right hand and multiply them while also subtracting it by what they should resolve to. \\\n",
    "## For our first constraint we will do:\n",
    "\n",
    "|expression| constraint|\n",
    "|----|----|\n",
    "| $x * x = v_0$ |  $x * x - v_0 == 0$  |\n",
    "\n",
    "$$\n",
    "    l_{eft} = \n",
    "    \\begin{bmatrix}\n",
    "    0 \\\\\n",
    "    1 \\\\\n",
    "    0 \\\\\n",
    "    0 \\\\\n",
    "    0\\\\\n",
    "    \\end{bmatrix}\n",
    "$$\n",
    "\n",
    "$$\n",
    "    R_{ight} = \n",
    "    \\begin{bmatrix}\n",
    "    0 \\\\\n",
    "    1 \\\\\n",
    "    0 \\\\\n",
    "    0 \\\\\n",
    "    0\\\\\n",
    "    \\end{bmatrix}\n",
    "$$\n",
    "\n",
    "\n",
    "$$\n",
    "    O_{ut} = \n",
    "    \\begin{bmatrix}\n",
    "    0 \\\\\n",
    "    0 \\\\\n",
    "    1 \\\\\n",
    "    0 \\\\\n",
    "    0\\\\\n",
    "    \\end{bmatrix}\n",
    "$$\n",
    "\n",
    "\n",
    "### the final constraint equation:\n",
    "\n",
    "$$ Left * Right - Out = 0 $$\n",
    "\n",
    "$$\n",
    "\\left\\langle\n",
    "\\begin{matrix}\n",
    "    s\n",
    "    \\end{matrix}\n",
    ",\n",
    "    \\begin{bmatrix}\n",
    "    0 \\\\\n",
    "    1 \\\\\n",
    "    0 \\\\\n",
    "    0 \\\\\n",
    "    0\\\\\n",
    "    \\end{bmatrix}\n",
    "\\right\\rangle\n",
    "*\n",
    "\\left\\langle\n",
    "\\begin{matrix}\n",
    "    s\n",
    "    \\end{matrix}\n",
    ",\n",
    "    \\begin{bmatrix}\n",
    "    0 \\\\\n",
    "    1 \\\\\n",
    "    0 \\\\\n",
    "    0 \\\\\n",
    "    0\\\\\n",
    "    \\end{bmatrix}\n",
    "\\right\\rangle\n",
    "-\n",
    "\\left\\langle\n",
    "\\begin{matrix}\n",
    "    s\n",
    "    \\end{matrix}\n",
    ",\n",
    "    \\begin{bmatrix}\n",
    "    0 \\\\\n",
    "    0 \\\\\n",
    "    1 \\\\\n",
    "    0 \\\\\n",
    "    0\\\\\n",
    "    \\end{bmatrix}\n",
    "\\right\\rangle\n",
    "== 0\n",
    "$$\n",
    "\n",
    "\n",
    "$$\n",
    "\\left\\langle\n",
    "\\begin{bmatrix}\n",
    "    1 &\n",
    "    x &\n",
    "    x * x &\n",
    "    x + 3 &\n",
    "    (x * x) * (x + 3)\n",
    "    \\end{bmatrix}\n",
    ",\n",
    "    \\begin{bmatrix}\n",
    "    0 \\\\\n",
    "    1 \\\\\n",
    "    0 \\\\\n",
    "    0 \\\\\n",
    "    0\\\\\n",
    "    \\end{bmatrix}\n",
    "\\right\\rangle\n",
    "*\n",
    "\\left\\langle\n",
    "\\begin{bmatrix}\n",
    "    1 &\n",
    "    x &\n",
    "    x * x &\n",
    "    x + 3 &\n",
    "    (x * x) * (x + 3)\n",
    "    \\end{bmatrix}\n",
    ",\n",
    "    \\begin{bmatrix}\n",
    "    0 \\\\\n",
    "    1 \\\\\n",
    "    0 \\\\\n",
    "    0 \\\\\n",
    "    0\\\\\n",
    "    \\end{bmatrix}\n",
    "\\right\\rangle\n",
    "-\n",
    "\\left\\langle\n",
    "\\begin{bmatrix}\n",
    "    1 &\n",
    "    x &\n",
    "    x * x &\n",
    "    x + 3 &\n",
    "    (x * x) * (x + 3)\n",
    "    \\end{bmatrix}\n",
    ",\n",
    "    \\begin{bmatrix}\n",
    "    0 \\\\\n",
    "    0 \\\\\n",
    "    1 \\\\\n",
    "    0 \\\\\n",
    "    0\\\\\n",
    "    \\end{bmatrix}\n",
    "\\right\\rangle\n",
    "== 0\n",
    "$$"
   ]
  },
  {
   "cell_type": "code",
   "execution_count": 4,
   "metadata": {},
   "outputs": [],
   "source": [
    "left = np.array([\n",
    "    [0,1,0,0,0],\n",
    "    [3,1,0,0,0],\n",
    "    [0,0,1,0,0]\n",
    "])\n",
    "\n",
    "right = np.array([\n",
    "    [0,1,0,0,0],\n",
    "    [1,0,0,0,0],\n",
    "    [0,0,0,1,0]\n",
    "])\n",
    "\n",
    "out = np.array([\n",
    "    [0,0,1,0,0],\n",
    "    [0,0,0,1,0],\n",
    "    [0,0,0,0,1] \n",
    "])"
   ]
  },
  {
   "cell_type": "code",
   "execution_count": 5,
   "metadata": {},
   "outputs": [
    {
     "name": "stdout",
     "output_type": "stream",
     "text": [
      "[0 0 0]\n"
     ]
    }
   ],
   "source": [
    "# validate constraint hold true, \n",
    "\n",
    "s = compute_variable(3)\n",
    "z = (left @ s) * (right @ s) - (out @ s)\n",
    "\n",
    "# this should return an all zero vector, if computed correctly!\n",
    "print(z)"
   ]
  },
  {
   "cell_type": "markdown",
   "metadata": {},
   "source": [
    "# Rank 1 constraint to a quadratic span program\n",
    "\n",
    "Next task to complete is finding an effective method for checking all these constrains in a fast manner. \\\n",
    "This is done through turning each constraint into a polynomial such that when the polynomial is evaluated its roots are zero at the position of the index of the constraints. \\\n",
    "Woo thats is a lot to understand lets break that down!!\n",
    "\n",
    "\n",
    "<div>\n",
    "    <img alt='graph 'src=\"./figure2.png\" width=\"800\"/> \n",
    "    <p width=\"800px\">\n",
    "     blue dotted represents left side of the equations.\n",
    "     <br>\n",
    "     red dotted represents right side of equation. \n",
    "     <br>\n",
    "     green dotted represents the solution of the equation. \n",
    "     <br>\n",
    "     The black line represents the partially correct final constraint polynomial\n",
    "     <br>\n",
    "     The orange vertical lines represents index of the constraint\n",
    "    </p>\n",
    "</div>\n"
   ]
  },
  {
   "cell_type": "markdown",
   "metadata": {},
   "source": [
    "# singleton function\n",
    "* make ploynomial, such that zero is at every integer beside x, where P(x) = y "
   ]
  },
  {
   "cell_type": "code",
   "execution_count": 6,
   "metadata": {},
   "outputs": [
    {
     "data": {
      "image/png": "[encoded data removed]",
      "text/plain": [
       "<Figure size 432x288 with 1 Axes>"
      ]
     },
     "metadata": {
      "needs_background": "light"
     },
     "output_type": "display_data"
    }
   ],
   "source": [
    "def build_singleton_poly(target_x, target_y, num_points):\n",
    "    '''\n",
    "    builds singleton polynomial:\n",
    "        polynomial zero at every integer in [1,num_points] beside at target_x, where P(target_x) == target_y\n",
    "    '''\n",
    "\n",
    "    # Construct polynomial P(x) = 1\n",
    "    p = poly.Polynomial([1])\n",
    "\n",
    "    # Builds polynomial where P(x) = (x-1)(x-2)....(x-num_points), excluding target_x if target_x is an integer\n",
    "    for x in np.arange(1,num_points+1):\n",
    "        if not x == target_x:\n",
    "            p *= poly.Polynomial.fromroots(x)\n",
    "    \n",
    "    # adjust height of polynomial so P(target_x) = target_y\n",
    "    p *= target_y/p(target_x)\n",
    "\n",
    "    return p\n",
    "\n",
    "#-----------------------------------------------------------------------------------------------------------------\n",
    "#test\n",
    "num_points = 5\n",
    "target_x = 3\n",
    "target_y = 10\n",
    "\n",
    "singleton_p = build_singleton_poly(target_x, target_y, num_points)\n",
    "\n",
    "x_sampling = np.linspace(0, num_points, num=100)\n",
    "\n",
    "plt.plot(x_sampling,singleton_p(x_sampling))\n",
    "plt.plot([0,num_points],[0,0])\n",
    "plt.plot([0,num_points],[target_y,target_y])\n",
    "plt.scatter(np.arange(0,num_points+1),singleton_p(np.arange(0,num_points+1)))\n",
    "plt.show()"
   ]
  },
  {
   "cell_type": "markdown",
   "metadata": {},
   "source": [
    "# lagrange interpolation\n",
    "* the goal of this function is to find a polynomial that will ony go through select points.\n",
    "* how we do this is by adding up singletons where each singleton represents a repective points of interest.\n",
    "* * Since each singleton is zero at every other integer then xi, when adding the singleton will the polynomial be effeected at xi setting it to yi"
   ]
  },
  {
   "cell_type": "code",
   "execution_count": 7,
   "metadata": {},
   "outputs": [],
   "source": [
    "def lagrange_interp(x, y, num_points):\n",
    "    '''creates polynomial such that P(x1) = y1, P(x2) = y2, ..., P(xn) = yn,'''\n",
    "    # creates new polynomial    \n",
    "    out = poly.Polynomial([0])\n",
    "\n",
    "    # adds up singletone polynomials such that P(xi) = yi\n",
    "    # since everyother integer beside xi in the singletone is zero, they add very nicely to form a target polynomial\n",
    "    for xi, yi in zip(x,y):\n",
    "        out += build_singleton_poly(xi, yi, num_points)\n",
    "\n",
    "    return out"
   ]
  },
  {
   "cell_type": "markdown",
   "metadata": {},
   "source": [
    "# Rank 1 constraint --> Qudratic Span Program"
   ]
  },
  {
   "cell_type": "code",
   "execution_count": 8,
   "metadata": {},
   "outputs": [],
   "source": [
    "def r1cs_to_QAP(A,B,C):\n",
    "    '''\n",
    "    Turns a Rank 1 constraint system, into a Qudratic Span Programming using Lagrange interpolation \n",
    "        -turn each test case in our rank 1 constraint, into a polynomial such that the polynomial is zero at \"i\", for test case \"i\"\n",
    "    '''\n",
    "\n",
    "    A, B, C = A.T, B.T, C.T\n",
    "\n",
    "    # check all dimensions\n",
    "    if not (A.shape[0] == B.shape[0] and A.shape[0] == C.shape[0] and C.shape[0] == B.shape[0]):\n",
    "        print(A.shape[0],B.shape[0],C.shape[0])\n",
    "        assert False\n",
    "\n",
    "    # establish lagrange interpolation\n",
    "    num_points = A.shape[1]\n",
    "    lag_int = lambda y: lagrange_interp(np.arange(1,num_points+1),  y, num_points)\n",
    "\n",
    "\n",
    "    poly_A = [lag_int(a) for a in A]\n",
    "    poly_B = [lag_int(b) for b in B]\n",
    "    poly_C = [lag_int(c) for c in C]\n",
    "\n",
    "\n",
    "    # Z(x) = (x-1)(x-2)(x-3)...(x-num_points)\n",
    "    Z = poly.Polynomial(poly.polyfromroots(np.arange(1,num_points+1)))\n",
    "    \n",
    "    return (poly_A, poly_B, poly_C, Z)"
   ]
  },
  {
   "cell_type": "code",
   "execution_count": 9,
   "metadata": {},
   "outputs": [],
   "source": [
    "def check_QAP(v,A,B,C,Z):\n",
    "    \n",
    "    # define the right, left\n",
    "    left, right, solved = poly.Polynomial([0]), poly.Polynomial([0]), poly.Polynomial([0])\n",
    "\n",
    "    \n",
    "    # preform v_i . A_i(t) , v_i . B_i(t), v_i . C_i(t) \n",
    "    for i in  range(len(v)):\n",
    "        left += v[i] * A[i]\n",
    "        right += v[i] * B[i]\n",
    "        solved += v[i] * C[i]\n",
    "\n",
    "\n",
    "    print(\"left: \" + str(left))\n",
    "    print(\"right: \" + str(right))\n",
    "    print(\"solved: \" + str(solved))\n",
    "\n",
    "\n",
    "    # create the final polynomial to check states\n",
    "    p_final = left * right - solved\n",
    "\n",
    "    print(\"final polynomial: \" + str(p_final))\n",
    "\n",
    "    # check if p has divided by Z, with out remained\n",
    "    remainder = poly.polytrim(poly.polydiv(p_final.coef,Z.coef)[1],tol=0.1)\n",
    "\n",
    "    return len(remainder) == 1 and remainder[0] == 0\n",
    "\n",
    "\n"
   ]
  },
  {
   "cell_type": "markdown",
   "metadata": {},
   "source": [
    "# finally, testing it all"
   ]
  },
  {
   "cell_type": "code",
   "execution_count": 10,
   "metadata": {},
   "outputs": [
    {
     "name": "stdout",
     "output_type": "stream",
     "text": [
      "left: 0.0 + 3.0·x¹\n",
      "right: 12.0 - 12.5·x¹ + 3.5·x²\n",
      "solved: 63.0 - 79.5·x¹ + 25.5·x²\n",
      "final polynomial: -63.0 + 115.5·x¹ - 63.0·x² + 10.5·x³\n"
     ]
    },
    {
     "data": {
      "text/plain": [
       "True"
      ]
     },
     "execution_count": 10,
     "metadata": {},
     "output_type": "execute_result"
    }
   ],
   "source": [
    "v = compute_variable(3)\n",
    "\n",
    "\n",
    "left = np.array([\n",
    "    [0,1,0,0,0],\n",
    "    [3,1,0,0,0],\n",
    "    [0,0,1,0,0]\n",
    "])\n",
    "\n",
    "right = np.array([\n",
    "    [0,1,0,0,0],\n",
    "    [1,0,0,0,0],\n",
    "    [0,0,0,1,0]\n",
    "])\n",
    "\n",
    "out = np.array([\n",
    "    [0,0,1,0,0],\n",
    "    [0,0,0,1,0],\n",
    "    [0,0,0,0,1] \n",
    "])\n",
    "\n",
    "A,B,C,Z = r1cs_to_QAP(left, right, out)\n",
    "\n",
    "check_QAP(v,A,B,C,Z)"
   ]
  },
  {
   "cell_type": "markdown",
   "metadata": {},
   "source": [
    "# Run with error!"
   ]
  },
  {
   "cell_type": "code",
   "execution_count": 11,
   "metadata": {},
   "outputs": [
    {
     "name": "stdout",
     "output_type": "stream",
     "text": [
      "left: 1.0 + 1.5·x¹ + 0.5·x²\n",
      "right: 12.0 - 12.5·x¹ + 3.5·x²\n",
      "solved: 66.0 - 82.0·x¹ + 26.0·x²\n",
      "final polynomial: -54.0 + 87.5·x¹ - 35.25·x² - 1.0·x³ + 1.75·x⁴\n"
     ]
    },
    {
     "data": {
      "text/plain": [
       "False"
      ]
     },
     "execution_count": 11,
     "metadata": {},
     "output_type": "execute_result"
    }
   ],
   "source": [
    "v = compute_variable(3)\n",
    "\n",
    "# add error to the calculation!!!!\n",
    "v[2] += 1\n",
    "\n",
    "left = np.array([\n",
    "    [0,1,0,0,0],\n",
    "    [3,1,0,0,0],\n",
    "    [0,0,1,0,0]\n",
    "])\n",
    "\n",
    "right = np.array([\n",
    "    [0,1,0,0,0],\n",
    "    [1,0,0,0,0],\n",
    "    [0,0,0,1,0]\n",
    "])\n",
    "\n",
    "out = np.array([\n",
    "    [0,0,1,0,0],\n",
    "    [0,0,0,1,0],\n",
    "    [0,0,0,0,1] \n",
    "])\n",
    "\n",
    "A,B,C,Z = r1cs_to_QAP(left, right, out)\n",
    "\n",
    "check_QAP(v,A,B,C,Z)"
   ]
  }
 ],
 "metadata": {
  "interpreter": {
   "hash": "31f2aee4e71d21fbe5cf8b01ff0e069b9275f58929596ceb00d14d90e3e16cd6"
  },
  "kernelspec": {
   "display_name": "Python 3.8.9 64-bit",
   "language": "python",
   "name": "python3"
  },
  "language_info": {
   "codemirror_mode": {
    "name": "ipython",
    "version": 3
   },
   "file_extension": ".py",
   "mimetype": "text/x-python",
   "name": "python",
   "nbconvert_exporter": "python",
   "pygments_lexer": "ipython3",
   "version": "3.8.9"
  },
  "orig_nbformat": 4
 },
 "nbformat": 4,
 "nbformat_minor": 2
}
